{
 "cells": [
  {
   "cell_type": "code",
   "execution_count": null,
   "id": "89f68029",
   "metadata": {},
   "outputs": [],
   "source": [
    "-- Exported from QuickDBD: https://www.quickdatabasediagrams.com/\n",
    "-- Link to schema: https://app.quickdatabasediagrams.com/#/d/CZdwTu\n",
    "-- NOTE! If you have used non-SQL datatypes in your design, you will have to change these here.\n",
    "\n",
    "\n",
    "CREATE TABLE \"Consumption\" (\n",
    "    \"country\" varchar(50)   NOT NULL,\n",
    "    \"coal\" decimal(6,3)   NOT NULL,\n",
    "    \"natural_gas\" decimal(6,3)   NOT NULL,\n",
    "    \"petroleum\" decimal(6,3)   NOT NULL,\n",
    "    \"nuclear\" decimal(6,3)   NOT NULL,\n",
    "    \"renewables\" decimal(6,3)   NOT NULL,\n",
    "    CONSTRAINT \"pk_Consumption\" PRIMARY KEY (\n",
    "        \"country\"\n",
    "     )\n",
    ");\n",
    "\n",
    "CREATE TABLE \"Production\" (\n",
    "    \"country\" varchar(50)   NOT NULL,\n",
    "    \"coal\" decimal(6,3)   NOT NULL,\n",
    "    \"natural_gas\" decimal(6,3)   NOT NULL,\n",
    "    \"petroleum\" decimal(6,3)   NOT NULL,\n",
    "    \"nuclear\" decimal(6,3)   NOT NULL,\n",
    "    \"renewables\" decimal(6,3)   NOT NULL,\n",
    "    CONSTRAINT \"pk_Production\" PRIMARY KEY (\n",
    "        \"country\"\n",
    "     )\n",
    ");\n",
    "\n",
    "CREATE TABLE \"GDP\" (\n",
    "    \"country\" varchar(50)   NOT NULL,\n",
    "    \"gdp\" decimal(   NOT NULL,\n",
    "    CONSTRAINT \"pk_GDP\" PRIMARY KEY (\n",
    "        \"country\"\n",
    "     )\n",
    ");\n",
    "\n",
    "ALTER TABLE \"Consumption\" ADD CONSTRAINT \"fk_Consumption_country\" FOREIGN KEY(\"country\")\n",
    "REFERENCES \"Production\" (\"country\");\n"
   ]
  }
 ],
 "metadata": {
  "kernelspec": {
   "display_name": "PythonData",
   "language": "python",
   "name": "pythondata"
  },
  "language_info": {
   "codemirror_mode": {
    "name": "ipython",
    "version": 3
   },
   "file_extension": ".py",
   "mimetype": "text/x-python",
   "name": "python",
   "nbconvert_exporter": "python",
   "pygments_lexer": "ipython3",
   "version": "3.7.13"
  }
 },
 "nbformat": 4,
 "nbformat_minor": 5
}
